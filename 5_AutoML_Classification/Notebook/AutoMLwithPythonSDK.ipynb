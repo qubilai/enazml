{
 "cells": [
  {
   "cell_type": "markdown",
   "metadata": {},
   "source": [
    "# Azure ML Python SDK ile AutoML Kullanımı\n",
    "Gereklilikler:\n",
    "* Python 3.6.1 ve üzeri\n",
    "* Azure ML SDK (`!pip install azureml-sdk`) + (`!pip install azureml-sdk`). yükseltmek için: (`!pip install --upgrade azureml-sdk azureml-widgets`)\n",
    "* Azure ML Workspace (Azure Portal üzerinden oluşturulabilir)\n",
    "* config.json (Azure ML Workspace hakkında bilgi tutan ve workspace'in overview penceresinden indirilen dosya)\n",
    "* BikeBuyer veri seti.(csv formatında, müşteri özellikleri ve alışveriş yapıp yapmadıkları bilgisi tutuluyor)"
   ]
  },
  {
   "cell_type": "code",
   "execution_count": 1,
   "metadata": {},
   "outputs": [
    {
     "name": "stdout",
     "output_type": "stream",
     "text": [
      "1.19.0\n"
     ]
    }
   ],
   "source": [
    "import azureml.core\n",
    "print(azureml.core.VERSION)"
   ]
  },
  {
   "cell_type": "markdown",
   "metadata": {},
   "source": [
    "## Workspace'i SDK ile oluşturmak ve yakalamak"
   ]
  },
  {
   "cell_type": "code",
   "execution_count": 2,
   "metadata": {},
   "outputs": [],
   "source": [
    "from azureml.core import Workspace"
   ]
  },
  {
   "cell_type": "raw",
   "metadata": {},
   "source": [
    "#workspace get ile yakalayalım. Yoksa hata verecek.\n",
    "ws_name=\"kisemlws\"\n",
    "subscription_id=\"<subsciption_id>\"\n",
    "resource_group=\"krg\"\n",
    "\n",
    "try:\n",
    "    ws=Workspace.get(name=ws_name,\n",
    "                     subscription_id=subscription_id,\n",
    "                     resource_group=resource_group)\n",
    "    print(\"Workspace mevcut\")\n",
    "except:\n",
    "    print(\"Workspace mevcut değil!. Oluşturuluyor\")\n",
    "    try:\n",
    "        # Workspace oluşturma. Arayüzden oluşturulabilir.\n",
    "        Workspace.create(name=ws_name,\n",
    "                         subscription_id=subscription_id,\n",
    "                         resource_group=resource_group,\n",
    "                         location='North Europe'\n",
    "                        )\n",
    "    except Exception as ex:\n",
    "        print(ex)"
   ]
  },
  {
   "cell_type": "code",
   "execution_count": 3,
   "metadata": {},
   "outputs": [],
   "source": [
    "# from_config ile config dosyasını kullanarak workspace yakalayalım\n",
    "ws=Workspace.from_config()\n",
    "#ws.get_details() detayları öğrenmek için"
   ]
  },
  {
   "cell_type": "markdown",
   "metadata": {},
   "source": [
    "## Azure ML Datastore'a dosya upload etme Dataset oluşturma\n",
    "* csv dosyasını Datastore (azureml tarafında azure diski) upload edelim\n",
    "* Bu dosyadan Dataset oluşturalım"
   ]
  },
  {
   "cell_type": "markdown",
   "metadata": {},
   "source": [
    "#### csv dosyasına DataFrame olarak inceleyelim"
   ]
  },
  {
   "cell_type": "code",
   "execution_count": 4,
   "metadata": {},
   "outputs": [],
   "source": [
    "# csv içeriğine bakalım\n",
    "import pandas as pd"
   ]
  },
  {
   "cell_type": "code",
   "execution_count": 5,
   "metadata": {},
   "outputs": [
    {
     "name": "stdout",
     "output_type": "stream",
     "text": [
      "(18484, 14)\n"
     ]
    }
   ],
   "source": [
    "df=pd.read_csv(\"TargetMail.csv\")\n",
    "print(df.shape)\n",
    "#print(df.columns)\n",
    "#df.head()\n",
    "#df.isnull().any()\n",
    "#df[\"BikeBuyer\"].unique()"
   ]
  },
  {
   "cell_type": "markdown",
   "metadata": {},
   "source": [
    "#### Dosyayı upload edelim"
   ]
  },
  {
   "cell_type": "code",
   "execution_count": 6,
   "metadata": {},
   "outputs": [],
   "source": [
    "#Default Datastoreu yakalayalım\n",
    "ds=ws.get_default_datastore()"
   ]
  },
  {
   "cell_type": "code",
   "execution_count": 7,
   "metadata": {},
   "outputs": [
    {
     "name": "stdout",
     "output_type": "stream",
     "text": [
      "Uploading an estimated of 1 files\n",
      "Uploading TargetMail.csv\n",
      "Uploaded TargetMail.csv, 1 files out of an estimated total of 1\n",
      "Uploaded 1 files\n"
     ]
    },
    {
     "data": {
      "text/plain": [
       "$AZUREML_DATAREFERENCE_72632d032d25484bb863e11e9e465468"
      ]
     },
     "execution_count": 7,
     "metadata": {},
     "output_type": "execute_result"
    }
   ],
   "source": [
    "#sadece yerel dosyaları buluta göndermek\n",
    "dosyalar=[\"TargetMail.csv\"]\n",
    "ds.upload_files(\n",
    "    files=dosyalar,\n",
    "    target_path=\"customdatafile\",\n",
    "    overwrite=True,\n",
    "    show_progress=True,\n",
    ")"
   ]
  },
  {
   "cell_type": "raw",
   "metadata": {},
   "source": [
    "#tüm yerel klasoru komple buluta göndermek. \n",
    "ds.upload(src_dir=\".\",\n",
    "          target_path=\"customdatafile\",\n",
    "          overwrite=True, show_progress=True)"
   ]
  },
  {
   "cell_type": "markdown",
   "metadata": {},
   "source": [
    "#### Dataset oluşturalım"
   ]
  },
  {
   "cell_type": "code",
   "execution_count": 8,
   "metadata": {},
   "outputs": [],
   "source": [
    "from azureml.core import Dataset"
   ]
  },
  {
   "cell_type": "code",
   "execution_count": null,
   "metadata": {},
   "outputs": [],
   "source": [
    "csv_files=[(ds,\"customdatafile/*.csv\")] #tüm dosyalar\n",
    "\n",
    "#dataset nesnesi oluşturalım\n",
    "ds_tabular=Dataset.Tabular.from_delimited_files(path=csv_files)\n",
    "\n",
    "#dataseti register edelim\n",
    "ds_tabular.register(workspace=ws,\n",
    "                    name=\"TargetMailDSwSDK\",)"
   ]
  },
  {
   "cell_type": "markdown",
   "metadata": {},
   "source": [
    "#### Register edilmiş Dataseti yakalayalım"
   ]
  },
  {
   "cell_type": "code",
   "execution_count": 10,
   "metadata": {},
   "outputs": [],
   "source": [
    "#Workspace koleksiyonundan alabiliriz.\n",
    "ds_AdwTargetMail=ws.datasets[\"TargetMailDSwSDK\"]\n",
    "\n",
    "#direk adıyla çağırabiliriz.\n",
    "#ds_AdwTargetMail=Dataset.get_by_name(ws,\"TargetMailDSwSDK\")"
   ]
  },
  {
   "cell_type": "code",
   "execution_count": 11,
   "metadata": {},
   "outputs": [
    {
     "data": {
      "text/html": [
       "<div>\n",
       "<style scoped>\n",
       "    .dataframe tbody tr th:only-of-type {\n",
       "        vertical-align: middle;\n",
       "    }\n",
       "\n",
       "    .dataframe tbody tr th {\n",
       "        vertical-align: top;\n",
       "    }\n",
       "\n",
       "    .dataframe thead th {\n",
       "        text-align: right;\n",
       "    }\n",
       "</style>\n",
       "<table border=\"1\" class=\"dataframe\">\n",
       "  <thead>\n",
       "    <tr style=\"text-align: right;\">\n",
       "      <th></th>\n",
       "      <th>CustomerKey</th>\n",
       "      <th>Age</th>\n",
       "      <th>CommuteDistance</th>\n",
       "      <th>EnglishEducation</th>\n",
       "      <th>Gender</th>\n",
       "      <th>HouseOwnerFlag</th>\n",
       "      <th>MaritalStatus</th>\n",
       "      <th>NumberCarsOwned</th>\n",
       "      <th>NumberChildrenAtHome</th>\n",
       "      <th>EnglishOccupation</th>\n",
       "      <th>Region</th>\n",
       "      <th>TotalChildren</th>\n",
       "      <th>YearlyIncome</th>\n",
       "      <th>BikeBuyer</th>\n",
       "    </tr>\n",
       "  </thead>\n",
       "  <tbody>\n",
       "    <tr>\n",
       "      <th>0</th>\n",
       "      <td>11000</td>\n",
       "      <td>51</td>\n",
       "      <td>1-2 Miles</td>\n",
       "      <td>Bachelors</td>\n",
       "      <td>M</td>\n",
       "      <td>1</td>\n",
       "      <td>M</td>\n",
       "      <td>0</td>\n",
       "      <td>0</td>\n",
       "      <td>Professional</td>\n",
       "      <td>Pacific</td>\n",
       "      <td>2</td>\n",
       "      <td>90000</td>\n",
       "      <td>1</td>\n",
       "    </tr>\n",
       "    <tr>\n",
       "      <th>1</th>\n",
       "      <td>11001</td>\n",
       "      <td>52</td>\n",
       "      <td>0-1 Miles</td>\n",
       "      <td>Bachelors</td>\n",
       "      <td>M</td>\n",
       "      <td>0</td>\n",
       "      <td>S</td>\n",
       "      <td>1</td>\n",
       "      <td>3</td>\n",
       "      <td>Professional</td>\n",
       "      <td>Pacific</td>\n",
       "      <td>3</td>\n",
       "      <td>60000</td>\n",
       "      <td>1</td>\n",
       "    </tr>\n",
       "    <tr>\n",
       "      <th>2</th>\n",
       "      <td>11002</td>\n",
       "      <td>52</td>\n",
       "      <td>2-5 Miles</td>\n",
       "      <td>Bachelors</td>\n",
       "      <td>M</td>\n",
       "      <td>1</td>\n",
       "      <td>M</td>\n",
       "      <td>1</td>\n",
       "      <td>3</td>\n",
       "      <td>Professional</td>\n",
       "      <td>Pacific</td>\n",
       "      <td>3</td>\n",
       "      <td>60000</td>\n",
       "      <td>1</td>\n",
       "    </tr>\n",
       "    <tr>\n",
       "      <th>3</th>\n",
       "      <td>11003</td>\n",
       "      <td>50</td>\n",
       "      <td>5-10 Miles</td>\n",
       "      <td>Bachelors</td>\n",
       "      <td>F</td>\n",
       "      <td>0</td>\n",
       "      <td>S</td>\n",
       "      <td>1</td>\n",
       "      <td>0</td>\n",
       "      <td>Professional</td>\n",
       "      <td>Pacific</td>\n",
       "      <td>0</td>\n",
       "      <td>70000</td>\n",
       "      <td>1</td>\n",
       "    </tr>\n",
       "    <tr>\n",
       "      <th>4</th>\n",
       "      <td>11004</td>\n",
       "      <td>49</td>\n",
       "      <td>1-2 Miles</td>\n",
       "      <td>Bachelors</td>\n",
       "      <td>F</td>\n",
       "      <td>1</td>\n",
       "      <td>S</td>\n",
       "      <td>4</td>\n",
       "      <td>5</td>\n",
       "      <td>Professional</td>\n",
       "      <td>Pacific</td>\n",
       "      <td>5</td>\n",
       "      <td>80000</td>\n",
       "      <td>1</td>\n",
       "    </tr>\n",
       "  </tbody>\n",
       "</table>\n",
       "</div>"
      ],
      "text/plain": [
       "   CustomerKey  Age CommuteDistance EnglishEducation Gender  HouseOwnerFlag  \\\n",
       "0        11000   51       1-2 Miles        Bachelors      M               1   \n",
       "1        11001   52       0-1 Miles        Bachelors      M               0   \n",
       "2        11002   52       2-5 Miles        Bachelors      M               1   \n",
       "3        11003   50      5-10 Miles        Bachelors      F               0   \n",
       "4        11004   49       1-2 Miles        Bachelors      F               1   \n",
       "\n",
       "  MaritalStatus  NumberCarsOwned  NumberChildrenAtHome EnglishOccupation  \\\n",
       "0             M                0                     0      Professional   \n",
       "1             S                1                     3      Professional   \n",
       "2             M                1                     3      Professional   \n",
       "3             S                1                     0      Professional   \n",
       "4             S                4                     5      Professional   \n",
       "\n",
       "    Region  TotalChildren  YearlyIncome  BikeBuyer  \n",
       "0  Pacific              2         90000          1  \n",
       "1  Pacific              3         60000          1  \n",
       "2  Pacific              3         60000          1  \n",
       "3  Pacific              0         70000          1  \n",
       "4  Pacific              5         80000          1  "
      ]
     },
     "execution_count": 11,
     "metadata": {},
     "output_type": "execute_result"
    }
   ],
   "source": [
    "#Azure Dataseti pandas dataframe e çevirelim.\n",
    "df=ds_AdwTargetMail.to_pandas_dataframe()\n",
    "df.head()"
   ]
  },
  {
   "cell_type": "markdown",
   "metadata": {},
   "source": [
    "## AutoMLConfig, Experiment ve Run oluşturma"
   ]
  },
  {
   "cell_type": "markdown",
   "metadata": {},
   "source": [
    "#### Compute yakalayalım veya oluşturalım"
   ]
  },
  {
   "cell_type": "code",
   "execution_count": 12,
   "metadata": {},
   "outputs": [],
   "source": [
    "from azureml.core.compute import ComputeTarget, AmlCompute\n",
    "from azureml.core.compute_target import ComputeTargetException"
   ]
  },
  {
   "cell_type": "code",
   "execution_count": 13,
   "metadata": {},
   "outputs": [
    {
     "name": "stdout",
     "output_type": "stream",
     "text": [
      "Böyle bir compute mevcut! Kullanabilirsin\n"
     ]
    }
   ],
   "source": [
    "cluster_name = \"ktc\"\n",
    "\n",
    "try:\n",
    "    training_cluster = ComputeTarget(workspace=ws, name=cluster_name)\n",
    "    print('Böyle bir compute mevcut! Kullanabilirsin')\n",
    "except ComputeTargetException:\n",
    "    try:\n",
    "        compute_config = AmlCompute.provisioning_configuration(vm_size='STANDARD_DS11_V2', min_nodes=1, max_nodes=1)\n",
    "        training_cluster = ComputeTarget.create(ws, cluster_name, compute_config)\n",
    "        \n",
    "        training_cluster.wait_for_completion(show_output=True)\n",
    "    except Exception as ex:\n",
    "        print(ex)"
   ]
  },
  {
   "cell_type": "markdown",
   "metadata": {},
   "source": [
    "#### AutoMLConfig oluşturalım"
   ]
  },
  {
   "cell_type": "code",
   "execution_count": 14,
   "metadata": {},
   "outputs": [],
   "source": [
    "from azureml.train.automl import AutoMLConfig"
   ]
  },
  {
   "cell_type": "code",
   "execution_count": 15,
   "metadata": {},
   "outputs": [
    {
     "data": {
      "text/plain": [
       "['average_precision_score_weighted',\n",
       " 'norm_macro_recall',\n",
       " 'accuracy',\n",
       " 'precision_score_weighted',\n",
       " 'AUC_weighted']"
      ]
     },
     "execution_count": 15,
     "metadata": {},
     "output_type": "execute_result"
    }
   ],
   "source": [
    "# Kullanılabilecek primary metricleri görmek için\n",
    "from azureml.train.automl.utilities import get_primary_metrics\n",
    "\n",
    "get_primary_metrics(\"classification\")"
   ]
  },
  {
   "cell_type": "code",
   "execution_count": 17,
   "metadata": {},
   "outputs": [],
   "source": [
    "#dir(ds_train) #attributelerine bakabiliriz.\n",
    "\n",
    "#Dataseti test ve train olarak ayıralım.\n",
    "ds_train, ds_test =ds_AdwTargetMail.random_split(percentage=0.7)"
   ]
  },
  {
   "cell_type": "code",
   "execution_count": 18,
   "metadata": {},
   "outputs": [],
   "source": [
    "autml_config=AutoMLConfig(name=\"SDK ile AutoML\",\n",
    "                          task=\"classification\",\n",
    "                          primary_metric=\"accuracy\",\n",
    "                          compute_target=training_cluster,\n",
    "                          training_data=ds_train,\n",
    "                          validation_data=ds_test,\n",
    "                          label_column_name=\"BikeBuyer\",\n",
    "                          featurization=\"auto\",\n",
    "                          iterations=5,\n",
    "                          max_concurrent_iterations=2,\n",
    "                          experiment_timeout_hours=0.25, #15 dk\n",
    "                          experiment_exit_score=0.80\n",
    "                         )"
   ]
  },
  {
   "cell_type": "markdown",
   "metadata": {},
   "source": [
    "#### Experiment oluşturalım ve AutoMLConfig submit edelim"
   ]
  },
  {
   "cell_type": "code",
   "execution_count": 19,
   "metadata": {},
   "outputs": [],
   "source": [
    "from azureml.core.experiment import Experiment"
   ]
  },
  {
   "cell_type": "code",
   "execution_count": 20,
   "metadata": {},
   "outputs": [],
   "source": [
    "exp=Experiment(ws,'exp_automl_sdk')"
   ]
  },
  {
   "cell_type": "code",
   "execution_count": 21,
   "metadata": {},
   "outputs": [
    {
     "name": "stdout",
     "output_type": "stream",
     "text": [
      "Running on remote.\n"
     ]
    }
   ],
   "source": [
    "run=exp.submit(autml_config)"
   ]
  },
  {
   "cell_type": "markdown",
   "metadata": {},
   "source": [
    "#### RunDetails widget ile çalışmayı takip edelim ve bitene kadar bekleyelim"
   ]
  },
  {
   "cell_type": "code",
   "execution_count": 22,
   "metadata": {},
   "outputs": [],
   "source": [
    "from azureml.widgets import RunDetails"
   ]
  },
  {
   "cell_type": "code",
   "execution_count": null,
   "metadata": {},
   "outputs": [],
   "source": [
    "RunDetails(run).show()\n",
    "run.wait_for_completion(show_output=True)"
   ]
  },
  {
   "cell_type": "markdown",
   "metadata": {},
   "source": [
    "#### En iyi çalışma ve en iyi modeli yakalayalım\n",
    "modeli almak için `pip install azureml-train-automl-runtime==1.19.0`"
   ]
  },
  {
   "cell_type": "code",
   "execution_count": 24,
   "metadata": {},
   "outputs": [
    {
     "name": "stdout",
     "output_type": "stream",
     "text": [
      "Run(Experiment: exp_automl_sdk,\n",
      "Id: AutoML_501422c0-fbfc-4620-a43c-5d404fe1f871_0,\n",
      "Type: azureml.scriptrun,\n",
      "Status: Completed) Pipeline(memory=None,\n",
      "         steps=[('datatransformer',\n",
      "                 DataTransformer(enable_dnn=None, enable_feature_sweeping=None,\n",
      "                                 feature_sweeping_config=None,\n",
      "                                 feature_sweeping_timeout=None,\n",
      "                                 featurization_config=None, force_text_dnn=None,\n",
      "                                 is_cross_validation=None,\n",
      "                                 is_onnx_compatible=None, logger=None,\n",
      "                                 observer=None, task=None, working_dir=None)),\n",
      "                ('MaxAbsScaler', MaxAbsScaler(copy...\n",
      "                 LightGBMClassifier(boosting_type='gbdt', class_weight=None,\n",
      "                                    colsample_bytree=1.0,\n",
      "                                    importance_type='split', learning_rate=0.1,\n",
      "                                    max_depth=-1, min_child_samples=20,\n",
      "                                    min_child_weight=0.001, min_split_gain=0.0,\n",
      "                                    n_estimators=100, n_jobs=1, num_leaves=31,\n",
      "                                    objective=None, random_state=None,\n",
      "                                    reg_alpha=0.0, reg_lambda=0.0, silent=True,\n",
      "                                    subsample=1.0, subsample_for_bin=200000,\n",
      "                                    subsample_freq=0, verbose=-10))],\n",
      "         verbose=False) \n",
      "\n"
     ]
    }
   ],
   "source": [
    "best_run, fitted_model = run.get_output()\n",
    "print(best_run,fitted_model,\"\\n\")"
   ]
  },
  {
   "cell_type": "code",
   "execution_count": 25,
   "metadata": {},
   "outputs": [
    {
     "data": {
      "text/plain": [
       "{'log_loss': 0.4044325455659358,\n",
       " 'AUC_micro': 0.9136934245484021,\n",
       " 'AUC_macro': 0.9136893211393466,\n",
       " 'precision_score_macro': 0.8363915637218597,\n",
       " 'norm_macro_recall': 0.6728911586127833,\n",
       " 'accuracy': 0.8364067920394377,\n",
       " 'precision_score_weighted': 0.8364636444250617,\n",
       " 'f1_score_micro': 0.8364067920394377,\n",
       " 'matthews_correlation': 0.6728371408600571,\n",
       " 'average_precision_score_micro': 0.9107182455220276,\n",
       " 'AUC_weighted': 0.9136893211393468,\n",
       " 'precision_score_micro': 0.8364067920394377,\n",
       " 'recall_score_macro': 0.8364455793063916,\n",
       " 'average_precision_score_weighted': 0.9109923440258016,\n",
       " 'balanced_accuracy': 0.8364455793063916,\n",
       " 'recall_score_weighted': 0.8364067920394377,\n",
       " 'average_precision_score_macro': 0.9109878389328883,\n",
       " 'f1_score_macro': 0.8363967077925887,\n",
       " 'recall_score_micro': 0.8364067920394377,\n",
       " 'f1_score_weighted': 0.8364133585257578,\n",
       " 'weighted_accuracy': 0.8363680178064747,\n",
       " 'accuracy_table': 'aml://artifactId/ExperimentRun/dcid.AutoML_501422c0-fbfc-4620-a43c-5d404fe1f871_0/accuracy_table',\n",
       " 'confusion_matrix': 'aml://artifactId/ExperimentRun/dcid.AutoML_501422c0-fbfc-4620-a43c-5d404fe1f871_0/confusion_matrix'}"
      ]
     },
     "execution_count": 25,
     "metadata": {},
     "output_type": "execute_result"
    }
   ],
   "source": [
    "best_run.get_metrics()"
   ]
  },
  {
   "cell_type": "code",
   "execution_count": 26,
   "metadata": {},
   "outputs": [
    {
     "name": "stdout",
     "output_type": "stream",
     "text": [
      "datatransformer\n",
      "MaxAbsScaler\n",
      "LightGBMClassifier\n"
     ]
    }
   ],
   "source": [
    "#en iyi modelin adımları görebiliriz.\n",
    "for step in fitted_model.named_steps:\n",
    "    print(step)"
   ]
  },
  {
   "cell_type": "markdown",
   "metadata": {},
   "source": [
    "## Modeli register etmek ve indirmek"
   ]
  },
  {
   "cell_type": "markdown",
   "metadata": {},
   "source": [
    "#### Modeli Register etmek"
   ]
  },
  {
   "cell_type": "code",
   "execution_count": 27,
   "metadata": {},
   "outputs": [
    {
     "data": {
      "text/plain": [
       "Model(workspace=Workspace.create(name='kisemlws', subscription_id='b936214e-de5a-41d9-92ac-f79505ab5fd4', resource_group='krg'), name=ModelBikeBuyerwSDK, id=ModelBikeBuyerwSDK:1, version=1, tags={}, properties={})"
      ]
     },
     "execution_count": 27,
     "metadata": {},
     "output_type": "execute_result"
    }
   ],
   "source": [
    "#run üzerinden de model register edilebilir.\n",
    "best_run.register_model(model_name=\"ModelBikeBuyerwSDK\",\n",
    "                        model_path=\"outputs/model.pkl\") #AutoML sayfasından modelin outputs+logs tabında"
   ]
  },
  {
   "cell_type": "code",
   "execution_count": 28,
   "metadata": {},
   "outputs": [],
   "source": [
    "from azureml.core.model import Model"
   ]
  },
  {
   "cell_type": "raw",
   "metadata": {},
   "source": [
    "#pkl dosyasının yeri belliyse veya sonradan upload edilmişse direk Model üzerinden register edilebilir\n",
    "Model.register(workspace=ws,\n",
    "               model_name=\"BikeBuyerAutoMLModel2\",\n",
    "               model_path=\"Azuredaki pkl dosyası yolu ds.upload ile yükleyebilirsin\")"
   ]
  },
  {
   "cell_type": "markdown",
   "metadata": {},
   "source": [
    "#### Modeli listelemek ve indirmek"
   ]
  },
  {
   "cell_type": "code",
   "execution_count": 29,
   "metadata": {},
   "outputs": [
    {
     "name": "stdout",
     "output_type": "stream",
     "text": [
      "ModelBikeBuyerwSDK version: 1\n",
      "AutoMLa8c8ff3ab0 version: 1\n"
     ]
    }
   ],
   "source": [
    "# List registered models\n",
    "for model in Model.list(ws):\n",
    "    print(model.name, 'version:', model.version)"
   ]
  },
  {
   "cell_type": "code",
   "execution_count": 31,
   "metadata": {},
   "outputs": [
    {
     "data": {
      "text/plain": [
       "os.stat_result(st_mode=33279, st_ino=9655805562012565504, st_dev=46, st_nlink=1, st_uid=0, st_gid=0, st_size=374025, st_atime=1610530261, st_mtime=1610530261, st_ctime=1610530261)"
      ]
     },
     "execution_count": 31,
     "metadata": {},
     "output_type": "execute_result"
    }
   ],
   "source": [
    "#modeli indirmek için\n",
    "model=Model(ws,\"ModelBikeBuyerwSDK\")\n",
    "model.download(target_dir=\".\",exist_ok=True)\n",
    "#model.delete()  #register edilen modeli silmek için\n",
    "\n",
    "#kontrol edelim var mı\n",
    "import os\n",
    "os.stat(\"./model.pkl\")"
   ]
  },
  {
   "cell_type": "markdown",
   "metadata": {},
   "source": [
    "#### Modelden bir webservice oluşturmak ve test kısmı ile devam eder.\n",
    "\n",
    "* score.py(init ve run) ve yml dosyasından\n",
    "* Container config tanımla\n",
    "* Yukırıdakilerden image oluştur ve containera deploy et.\n",
    "* Webservice(ws,\"serviceadi\") veya request sınıf ile test et.\n",
    "    "
   ]
  }
 ],
 "metadata": {
  "kernel_info": {
   "name": "python3"
  },
  "kernelspec": {
   "display_name": "Python 3",
   "language": "python",
   "name": "python3"
  },
  "language_info": {
   "codemirror_mode": {
    "name": "ipython",
    "version": 3
   },
   "file_extension": ".py",
   "mimetype": "text/x-python",
   "name": "python",
   "nbconvert_exporter": "python",
   "pygments_lexer": "ipython3",
   "version": "3.6.9"
  },
  "nteract": {
   "version": "nteract-front-end@1.0.0"
  }
 },
 "nbformat": 4,
 "nbformat_minor": 4
}
